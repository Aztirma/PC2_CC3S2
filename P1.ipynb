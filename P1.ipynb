{
 "cells": [
  {
   "cell_type": "code",
   "execution_count": null,
   "id": "aa470b14-3aef-4b89-bdc5-0e83621ff4b9",
   "metadata": {},
   "outputs": [],
   "source": [
    "#Función para encontrar la letra faltante en el alfabeto"
   ]
  },
  {
   "cell_type": "code",
   "execution_count": 1,
   "id": "9445e8bc-3535-4fc0-96f4-01670482afd4",
   "metadata": {},
   "outputs": [
    {
     "data": {
      "text/plain": [
       ":find_missing_letter"
      ]
     },
     "execution_count": 1,
     "metadata": {},
     "output_type": "execute_result"
    }
   ],
   "source": [
    "def find_missing_letter(str)\n",
    "    alphabet = ('a'..'z').to_a\n",
    "    missing_letter = alphabet.find { |letter| !str.include?(letter) }\n",
    "    return missing_letter\n",
    "end"
   ]
  },
  {
   "cell_type": "code",
   "execution_count": null,
   "id": "addef075-eb7d-49c0-ad87-80d7605172a1",
   "metadata": {},
   "outputs": [],
   "source": [
    "#EJEMPLO CASO DE USO"
   ]
  },
  {
   "cell_type": "code",
   "execution_count": 3,
   "id": "c391f411-4c50-4a2b-b802-5dd3a89f5613",
   "metadata": {},
   "outputs": [
    {
     "name": "stdout",
     "output_type": "stream",
     "text": [
      "La letra que falta es: f\n"
     ]
    }
   ],
   "source": [
    "missing_letter = find_missing_letter(\"the quick brown box jumps over a lazy dog\")\n",
    "puts \"La letra que falta es: #{missing_letter}\""
   ]
  },
  {
   "cell_type": "code",
   "execution_count": 5,
   "id": "df3e9234-9db3-42cb-a07e-b22bb2df07fc",
   "metadata": {},
   "outputs": [],
   "source": [
    "#Implementación de la clase binary three"
   ]
  },
  {
   "cell_type": "code",
   "execution_count": 6,
   "id": "393526d8-5e31-4cd1-8196-6b8a1c3a8ac3",
   "metadata": {},
   "outputs": [
    {
     "data": {
      "text/plain": [
       ":each"
      ]
     },
     "execution_count": 6,
     "metadata": {},
     "output_type": "execute_result"
    }
   ],
   "source": [
    "  class BinaryTree\n",
    "    attr_reader :value, :left, :right\n",
    "  \n",
    "    def initialize(value)\n",
    "      @value = value\n",
    "      @left = nil\n",
    "      @right = nil\n",
    "    end\n",
    "  \n",
    "    def <<(element)\n",
    "      if element < @value\n",
    "        @left ? @left << element : @left = BinaryTree.new(element)\n",
    "      else\n",
    "        @right ? @right << element : @right = BinaryTree.new(element)\n",
    "      end\n",
    "    end\n",
    "  \n",
    "    def empty?\n",
    "      return true if @left.nil? && @right.nil?\n",
    "      return false\n",
    "    end\n",
    "  \n",
    "    def each(&block)\n",
    "      @left.each(&block) if @left\n",
    "      block.call(@value)\n",
    "      @right.each(&block) if @right\n",
    "    end\n",
    "  end"
   ]
  },
  {
   "cell_type": "code",
   "execution_count": null,
   "id": "09b60bcd-59b0-49cf-b740-b831ec644bff",
   "metadata": {},
   "outputs": [],
   "source": [
    "#EJEMPLO DE USO "
   ]
  },
  {
   "cell_type": "code",
   "execution_count": 10,
   "id": "0b1e6521-ce65-41a4-8e02-8ebe47628ca5",
   "metadata": {},
   "outputs": [
    {
     "name": "stdout",
     "output_type": "stream",
     "text": [
      "¿El árbol está vacío? false\n"
     ]
    }
   ],
   "source": [
    "# Crear una instancia de BinaryTree\n",
    "tree = BinaryTree.new(5)\n",
    "\n",
    "# Insertar elementos\n",
    "tree << 3\n",
    "tree << 7\n",
    "\n",
    "# Verificar si el árbol está vacío\n",
    "is_empty = tree.empty?\n",
    "puts \"¿El árbol está vacío? #{is_empty}\"\n"
   ]
  },
  {
   "cell_type": "code",
   "execution_count": 7,
   "id": "017790b4-e767-42db-8ff1-979f5542b99d",
   "metadata": {},
   "outputs": [],
   "source": [
    "# Extensión arbol binario"
   ]
  },
  {
   "cell_type": "code",
   "execution_count": 11,
   "id": "deb567e6-b235-49e9-9f43-cf469908b7e6",
   "metadata": {},
   "outputs": [
    {
     "data": {
      "text/plain": [
       ":sort"
      ]
     },
     "execution_count": 11,
     "metadata": {},
     "output_type": "execute_result"
    }
   ],
   "source": [
    "class BinaryTree\n",
    "    def include?(elt)\n",
    "      return true if @value == elt\n",
    "      return @left.include?(elt) if @left && elt < @value\n",
    "      return @right.include?(elt) if @right\n",
    "      return false\n",
    "    end\n",
    "  \n",
    "    def all?(&block)\n",
    "      return false unless block.call(@value)\n",
    "      return @left.all?(&block) if @left\n",
    "      return @right.all?(&block) if @right\n",
    "      return true\n",
    "    end\n",
    "  \n",
    "    def any?(&block)\n",
    "      return true if block.call(@value)\n",
    "      return @left.any?(&block) if @left\n",
    "      return @right.any?(&block) if @right\n",
    "      return false\n",
    "    end\n",
    "  \n",
    "    def sort\n",
    "      sorted = []\n",
    "      each { |value| sorted << value }\n",
    "      return sorted.sort\n",
    "    end\n",
    "  end"
   ]
  },
  {
   "cell_type": "code",
   "execution_count": null,
   "id": "67ee001d-6a99-4e37-935d-dc2d6dd5f9f6",
   "metadata": {},
   "outputs": [],
   "source": [
    "#EJEMPLO DE USO"
   ]
  },
  {
   "cell_type": "code",
   "execution_count": 12,
   "id": "0c1ae6a1-0482-4f3c-970d-88772a977c1a",
   "metadata": {},
   "outputs": [
    {
     "name": "stdout",
     "output_type": "stream",
     "text": [
      "¿El árbol incluye el elemento 7? true\n",
      "¿Todos los elementos son mayores que 3? false\n",
      "¿Al menos un elemento es par? true\n",
      "Árbol ordenado: [2, 3, 5, 7, 8]\n"
     ]
    }
   ],
   "source": [
    "# Crear una instancia de BinaryTree\n",
    "tree = BinaryTree.new(5)\n",
    "\n",
    "# Insertar elementos\n",
    "tree << 3\n",
    "tree << 7\n",
    "tree << 2\n",
    "tree << 8\n",
    "\n",
    "# Verificar si el árbol incluye un elemento\n",
    "includes_element = tree.include?(7)\n",
    "puts \"¿El árbol incluye el elemento 7? #{includes_element}\"\n",
    "\n",
    "# Verificar si todos los elementos cumplen una condición\n",
    "all_greater_than_3 = tree.all? { |value| value > 3 }\n",
    "puts \"¿Todos los elementos son mayores que 3? #{all_greater_than_3}\"\n",
    "\n",
    "# Verificar si algún elemento cumple una condición\n",
    "any_even = tree.any? { |value| value.even? }\n",
    "puts \"¿Al menos un elemento es par? #{any_even}\"\n",
    "\n",
    "# Ordenar los elementos del árbol\n",
    "sorted_tree = tree.sort\n",
    "puts \"Árbol ordenado: #{sorted_tree}\"\n"
   ]
  }
 ],
 "metadata": {
  "kernelspec": {
   "display_name": "Ruby 3.2.2",
   "language": "ruby",
   "name": "ruby"
  },
  "language_info": {
   "file_extension": ".rb",
   "mimetype": "application/x-ruby",
   "name": "ruby",
   "version": "3.2.2"
  }
 },
 "nbformat": 4,
 "nbformat_minor": 5
}
